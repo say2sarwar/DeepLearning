{
 "cells": [
  {
   "cell_type": "code",
   "execution_count": 21,
   "metadata": {},
   "outputs": [],
   "source": [
    "en = []\n",
    "fr = []\n",
    "ff = open('fr.txt', 'r',encoding='utf-8-sig')\n",
    "for i in ff:\n",
    "    fr.append(i.strip())\n",
    "f = open('en.txt', 'r')\n",
    "for i in f:\n",
    "    en.append(i.strip())"
   ]
  },
  {
   "cell_type": "code",
   "execution_count": 22,
   "metadata": {},
   "outputs": [],
   "source": [
    "import numpy as np\n",
    "en = np.array(en)\n",
    "fr = np.array(fr)"
   ]
  },
  {
   "cell_type": "code",
   "execution_count": 23,
   "metadata": {},
   "outputs": [
    {
     "data": {
      "text/plain": [
       "\"new jersey est généralement calme au cours de l' automne , mais il est généralement chaud en avril .\""
      ]
     },
     "execution_count": 23,
     "metadata": {},
     "output_type": "execute_result"
    }
   ],
   "source": [
    "fr[0]"
   ]
  },
  {
   "cell_type": "code",
   "execution_count": 10,
   "metadata": {},
   "outputs": [
    {
     "data": {
      "text/plain": [
       "\"\\t\\ufeffnew jersey est généralement calme au cours de l' automne , mais il est généralement chaud en avril .\\n\""
      ]
     },
     "execution_count": 10,
     "metadata": {},
     "output_type": "execute_result"
    }
   ],
   "source": [
    "eng_sent = []\n",
    "fra_sent = []\n",
    "eng_chars = set()\n",
    "fra_chars = set()\n",
    "ff = open('fr.txt', 'r',encoding='utf-8')\n",
    "for i in ff:\n",
    "    fra_sent.append('\\t' + i.strip() + '\\n')\n",
    "f = open('en.txt', 'r')\n",
    "for i in f:\n",
    "    eng_sent.append(i.strip())\n",
    "eng_sent = np.array(eng_sent)\n",
    "fra_sent = np.array(fra_sent)\n",
    "fra_sent[0]\n",
    "    "
   ]
  },
  {
   "cell_type": "code",
   "execution_count": null,
   "metadata": {},
   "outputs": [],
   "source": []
  }
 ],
 "metadata": {
  "kernelspec": {
   "display_name": "Python 3",
   "language": "python",
   "name": "python3"
  },
  "language_info": {
   "codemirror_mode": {
    "name": "ipython",
    "version": 3
   },
   "file_extension": ".py",
   "mimetype": "text/x-python",
   "name": "python",
   "nbconvert_exporter": "python",
   "pygments_lexer": "ipython3",
   "version": "3.6.7"
  }
 },
 "nbformat": 4,
 "nbformat_minor": 2
}
